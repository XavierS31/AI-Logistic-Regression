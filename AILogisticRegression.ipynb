{
 "cells": [
  {
   "cell_type": "markdown",
   "id": "a288e111-2632-4776-b4d6-c85722fc3a80",
   "metadata": {},
   "source": [
    "# Logistic Regression Model\n",
    "\n",
    "### Name: \n",
    "Xavier Andres Soto Baron\n",
    "\n",
    "### UCF ID:\n",
    "5601517"
   ]
  },
  {
   "cell_type": "markdown",
   "id": "31baabfa-b652-4580-8269-0cc28a67b8d2",
   "metadata": {},
   "source": [
    "## Dataset\n",
    "\n",
    "We use the Breast Cancer Wisconsin dataset from scikit-learn.  \n",
    "It contains 569 samples with 30 attributes. Labels are binary:  \n",
    "$$\n",
    "y \\in \\{0,1\\}\n",
    "$$\n"
   ]
  },
  {
   "cell_type": "code",
   "execution_count": 79,
   "id": "338a8f86-a842-432b-ba2e-78c01802ec03",
   "metadata": {},
   "outputs": [
    {
     "name": "stdout",
     "output_type": "stream",
     "text": [
      "Classes: {np.str_('malignant'): np.int64(0), np.str_('benign'): np.int64(1)}\n",
      "Class counts: {np.int64(0): 212, np.int64(1): 357}\n"
     ]
    }
   ],
   "source": [
    "#libraries\n",
    "import numpy as np\n",
    "import matplotlib.pyplot as plt\n",
    "from sklearn.datasets import load_breast_cancer\n",
    "\n",
    "# random generator for reproducibility\n",
    "rng = np.random.default_rng(4630)\n",
    "\n",
    "# load dataset\n",
    "data = load_breast_cancer()\n",
    "X_all, y_all = data.data, data.target\n",
    "target_names = data.target_names # ['malignant', 'benign']\n",
    "\n",
    "print(\"Classes:\", dict(zip(target_names, np.unique(y_all))))\n",
    "print(\"Class counts:\", {cls:int((y_all==cls).sum()) for cls in np.unique(y_all)})"
   ]
  },
  {
   "cell_type": "markdown",
   "id": "bacb63b4-cd8b-42ab-8ead-c0ddc7f9e267",
   "metadata": {},
   "source": [
    "## Stratified Split\n",
    "\n",
    "To preserve class balance, we divide the dataset into train, validation, and test sets:  \n",
    "- 60% training  \n",
    "- 20% validation  \n",
    "- 20% testing  \n",
    "\n",
    "Stratification ensures that the proportion of malignant/benign cases remains consistent across subsets. A malignant has: \n"
   ]
  },
  {
   "cell_type": "code",
   "execution_count": 71,
   "id": "ae029891-f7d2-4dda-b8ee-a459b1d162c5",
   "metadata": {},
   "outputs": [
    {
     "name": "stdout",
     "output_type": "stream",
     "text": [
      "Splits: (341, 30) (113, 30) (115, 30)\n"
     ]
    }
   ],
   "source": [
    "#Stratified Split 60/20/20\n",
    "def stratified_split(X, y, rng, train_frac=0.6, val_frac=0.2):\n",
    "    classes = np.unique(y)\n",
    "    idx_train, idx_val, idx_test = [], [], []\n",
    "\n",
    "    for c in classes:\n",
    "        idx_c = np.where(y == c)[0]\n",
    "        rng.shuffle(idx_c)\n",
    "        n = len(idx_c)\n",
    "        n_train = int(train_frac * n)\n",
    "        n_val   = int(val_frac * n)\n",
    "\n",
    "        idx_train.extend(idx_c[:n_train])\n",
    "        idx_val.extend(idx_c[n_train:n_train+n_val])\n",
    "        idx_test.extend(idx_c[n_train+n_val:])\n",
    "\n",
    "    return np.array(idx_train), np.array(idx_val), np.array(idx_test)\n",
    "\n",
    "\n",
    "\n",
    "idx_train, idx_val, idx_test = stratified_split(X_all, y_all, rng)\n",
    "\n",
    "X_train, y_train = X_all[idx_train], y_all[idx_train]\n",
    "X_val,   y_val   = X_all[idx_val], y_all[idx_val]\n",
    "X_test,  y_test  = X_all[idx_test], y_all[idx_test]\n",
    "\n",
    "#Printing splits\n",
    "print(\"Splits:\", X_train.shape, X_val.shape, X_test.shape)\n",
    "\n"
   ]
  },
  {
   "cell_type": "markdown",
   "id": "8ef72ab9-b50b-4e29-9825-082ef4cd0cc9",
   "metadata": {},
   "source": [
    "## Feature Standardization\n",
    "\n",
    "To speed up gradient descent, features are standardized to zero mean and unit variance:  \n",
    "$$\n",
    "x' = \\frac{x - \\mu}{\\sigma}\n",
    "$$\n",
    "\n",
    "where $\\mu$ and $\\sigma$ are computed from the training set only.\n"
   ]
  },
  {
   "cell_type": "code",
   "execution_count": 72,
   "id": "104b26d5-2337-417b-ac32-1eeb233bc62d",
   "metadata": {},
   "outputs": [],
   "source": [
    "#Find mean and std from the training set\n",
    "mean = X_tr.mean(axis=0)\n",
    "std = X_tr.std(axis=0)\n",
    "\n",
    "#Prevent invalid division by 0 values\n",
    "std[std == 0] = 1.0\n",
    "\n",
    "#Standardize\n",
    "X_tr = (X_tr - mean) / std\n",
    "X_val = (X_val - mean) / std\n",
    "X_te = (X_te - mean) / std"
   ]
  },
  {
   "cell_type": "markdown",
   "id": "7af8500c-6d3f-4026-ba85-acd52e2ae7e2",
   "metadata": {},
   "source": [
    "## Logistic Regression Model\n",
    "\n",
    "The hypothesis function:  \n",
    "$$\n",
    "\\hat{y} = \\sigma(\\mathbf{w}^\\top \\mathbf{x}), \\quad\n",
    "\\sigma(z) = \\frac{1}{1 + e^{-z}}\n",
    "$$\n",
    "\n",
    "Decision boundary: $\\hat{y}$ $\\geq 0.5 \\implies y=1$.\n"
   ]
  },
  {
   "cell_type": "code",
   "execution_count": 73,
   "id": "40940328-2e2e-43d3-86ed-bd355edf15e9",
   "metadata": {},
   "outputs": [],
   "source": [
    "#Function returning Sigmoid value\n",
    "def sigmoid(z):\n",
    "    return 1 / (1 + np.exp(-z))\n",
    "\n",
    "#Function will return the probabilities for the class 1\n",
    "def prob_predict(X, theta):\n",
    "    return sigmoid(X @ theta)\n",
    "    \n",
    "#Function will return binary predictions (0 or 1)\n",
    "def class_predict(X, theta, thresh=0.5):\n",
    "    return (prob_predict(X, theta) >= thresh).astype(int)\n"
   ]
  },
  {
   "cell_type": "markdown",
   "id": "a7c91cb7-fa5a-4330-b2a2-44cf8d192152",
   "metadata": {},
   "source": [
    "## Derivation and Explanation\n",
    "\n",
    "### Logistic Regression Hypothesis\n",
    "We model the probability of the positive class as:\n",
    "$$\n",
    "\\hat{y} = \\sigma(\\theta^\\top \\mathbf{x})\n",
    "$$\n",
    "where the sigmoid function is\n",
    "$$\n",
    "\\sigma(z) = \\frac{1}{1 + e^{-z}}.\n",
    "$$\n",
    "\n",
    "---\n",
    "\n",
    "### Binary Cross-Entropy Loss\n",
    "For a dataset with $m$ samples, the average loss is:\n",
    "$$\n",
    "J(\\theta) = -\\frac{1}{m} \\sum_{i=1}^m \\Big[ y^{(i)} \\log \\hat{y}^{(i)} + (1-y^{(i)}) \\log(1-\\hat{y}^{(i)}) \\Big].\n",
    "$$\n",
    "\n",
    "This penalizes confident but wrong predictions heavily, and is convex, ensuring a global minimum.\n",
    "\n",
    "---\n",
    "\n",
    "### L2 Regularization\n",
    "To reduce overfitting, we add a penalty on large weights.  \n",
    "We do not regularize the bias term $theta_0$:\n",
    "\n",
    "$$\n",
    "J_{reg}(\\theta) = J(\\theta) + \\frac{\\lambda}{2m} \\sum_{j=1}^n \\theta_j^2\n",
    "$$\n",
    "\n",
    "\n",
    "where $\\lambda$ is the regularization strength.\n",
    "\n",
    "---\n",
    "\n",
    "### Gradient of Loss\n",
    "For one sample, the derivative is:\n",
    "$$\n",
    "\\frac{\\partial \\ell}{\\partial \\theta} = (\\hat{y} - y)\\mathbf{x}.\n",
    "$$\n",
    "\n",
    "For all $m$ samples, in vectorized form:\n",
    "$$\n",
    "\\nabla J(\\theta) = \\frac{1}{m} X^\\top (\\hat{y} - y).\n",
    "$$\n",
    "\n",
    "---\n",
    "\n",
    "### Gradient with L2 Regularization\n",
    "When including the L2 term:\n",
    "$$\n",
    "\\nabla J_{reg}(\\theta) = \\frac{1}{m} X^\\top (\\hat{y} - y) + \\frac{\\lambda}{m}\\tilde{\\theta},\n",
    "$$\n",
    "\n",
    "where\n",
    "$$\n",
    "\\tilde{\\theta} = [0, \\theta_1, \\theta_2, \\dots, \\theta_n]^\\top.\n",
    "$$\n",
    "\n",
    "---\n",
    "\n",
    "### Gradient Descent Update\n",
    "Parameters are updated iteratively as:\n",
    "$$\n",
    "\\theta \\leftarrow \\theta - \\alpha \\, \\nabla J_{reg}(\\theta),\n",
    "$$\n",
    "\n",
    "where $\\alpha$ is the learning rate.\n",
    "\n",
    "\n"
   ]
  },
  {
   "cell_type": "code",
   "execution_count": 74,
   "id": "5aedd0c5-f3fd-4c1b-b9ef-3399814b33ff",
   "metadata": {},
   "outputs": [],
   "source": [
    "#Function for loss\n",
    "def loss_fn(X, y, theta, lam=0.0):\n",
    "    m = len(y)\n",
    "    p = np.clip(prob_predict(X, theta), 1e-15, 1-1e-15)\n",
    "    loss = -(1/m) * np.sum(y*np.log(p) + (1-y)*np.log(1-p))\n",
    "    loss += (lam/(2*m)) * np.sum(theta[1:]**2)\n",
    "    return loss\n",
    "\n",
    "#Function for Gradient\n",
    "def grad_fn(X, y, theta, lam=0.0):\n",
    "    m = len(y)\n",
    "    p = prob_predict(X, theta)\n",
    "    grad = (1/m) * (X.T @ (p - y))\n",
    "    grad[1:] += (lam/m) * theta[1:]\n",
    "    return grad\n"
   ]
  },
  {
   "cell_type": "markdown",
   "id": "0eb01134-94fa-4b47-bb51-e374a09a7fd7",
   "metadata": {},
   "source": [
    "## Training\n",
    "\n",
    "Parameters are updated iteratively:  \n",
    "$$\n",
    "\\mathbf{w} \\leftarrow \\mathbf{w} - \\alpha \\, \\nabla J_{reg}(\\mathbf{w})\n",
    "$$\n",
    "\n",
    "where $\\alpha$ is the learning rate.\n"
   ]
  },
  {
   "cell_type": "code",
   "execution_count": 75,
   "id": "387ef9cb-d36b-4aea-bf18-40c2b8407eab",
   "metadata": {},
   "outputs": [
    {
     "data": {
      "image/png": "[encoded data removed]",
      "text/plain": [
       "<Figure size 640x480 with 1 Axes>"
      ]
     },
     "metadata": {},
     "output_type": "display_data"
    }
   ],
   "source": [
    "def fit_log_reg(X, y, lr=0.1, lam=0.0, iters=5000):\n",
    "    theta = np.zeros(X.shape[1])\n",
    "    history = []\n",
    "    for _ in range(iters):\n",
    "        theta -= lr * grad_fn(X, y, theta, lam)\n",
    "        history.append(loss_fn(X, y, theta, lam))\n",
    "    return theta, history\n",
    "\n",
    "weights, history = fit_log_reg(X_tr, y_tr, lr=0.1, lam=0.1, iters=5000)\n",
    "\n",
    "#Print graph\n",
    "plt.plot(history)\n",
    "plt.xlabel(\"Iteration\")\n",
    "plt.ylabel(\"Loss\")\n",
    "plt.title(\"Training Loss Curve\")\n",
    "plt.show()\n"
   ]
  },
  {
   "cell_type": "markdown",
   "id": "404a215a-2a0a-45b2-bdb2-e85d6c4bda4f",
   "metadata": {},
   "source": [
    "## Evaluation Metrics\n",
    "\n",
    "From the confusion matrix:\n",
    "\n",
    "- Accuracy = $\\dfrac{TP + TN}{TP + TN + FP + FN}$\n",
    "  \n",
    "- Precision = $\\dfrac{TP}{TP + FP}$\n",
    "  \n",
    "- Recall = $\\dfrac{TP}{TP + FN}$\n",
    "  \n",
    "- F1 = $2 \\cdot \\dfrac{\\text{Precision} \\cdot \\text{Recall}}{\\text{Precision} + \\text{Recall}}$  \n",
    "\n"
   ]
  },
  {
   "cell_type": "code",
   "execution_count": 76,
   "id": "f60b25e2-6096-4960-b416-7cba0f120575",
   "metadata": {},
   "outputs": [
    {
     "name": "stdout",
     "output_type": "stream",
     "text": [
      "Test Set Metrics \n",
      "\n",
      "Accuracy: 0.974\n",
      "Precision: 0.960\n",
      "Recall: 1.000\n",
      "F1 Score: 0.980\n",
      "Confusion Matrix (TP, TN, FP,FN) : \n",
      "(np.int64(72), np.int64(40), np.int64(3), np.int64(0))\n"
     ]
    }
   ],
   "source": [
    "def confusion(y_true, y_pred):\n",
    "    tp = np.sum((y_true==1) & (y_pred==1))\n",
    "    tn = np.sum((y_true==0) & (y_pred==0))\n",
    "    fp = np.sum((y_true==0) & (y_pred==1))\n",
    "    fn = np.sum((y_true==1) & (y_pred==0))\n",
    "    return tp, tn, fp, fn\n",
    "\n",
    "def evaluate(X, y, theta):\n",
    "    preds = class_predict(X, theta)\n",
    "    tp, tn, fp, fn = confusion(y, preds)\n",
    "    acc = (tp+tn)/(tp+tn+fp+fn)\n",
    "    prec = tp/(tp+fp+1e-15)\n",
    "    rec = tp/(tp+fn+1e-15)\n",
    "    f1 = 2*prec*rec/(prec+rec+1e-15)\n",
    "    return acc, prec, rec, f1, (tp, tn, fp, fn)\n",
    "\n",
    "#Print values\n",
    "acc, prec, rec, f1, cm = evaluate(X_te, y_te, weights)\n",
    "print(\"Test Set Metrics \\n\")\n",
    "print(\"Accuracy:\", f\"{acc:.3f}\")\n",
    "print(\"Precision:\", f\"{prec:.3f}\")\n",
    "print(\"Recall:\", f\"{rec:.3f}\")\n",
    "print(\"F1 Score:\", f\"{f1:.3f}\")\n",
    "print(\"Confusion Matrix (TP, TN, FP,FN) : \")\n",
    "print(cm)\n",
    "\n"
   ]
  },
  {
   "cell_type": "markdown",
   "id": "f8f488f4-5ea9-48cb-bd3a-ac271c30cd86",
   "metadata": {},
   "source": [
    "## Predictions on First 5 Test Samples\n",
    "\n",
    "We display true labels, predicted probabilities, and predicted classes for the first five test points.\n"
   ]
  },
  {
   "cell_type": "code",
   "execution_count": 77,
   "id": "32829964-142e-4a13-960c-7c33b044eb80",
   "metadata": {},
   "outputs": [
    {
     "name": "stdout",
     "output_type": "stream",
     "text": [
      "First 5 Test Examples \n",
      "\n",
      "True: [0 0 0 0 0]\n",
      "Probabilities: [0.    0.002 0.    0.    0.   ]\n",
      "Predictions: [0 0 0 0 0]\n"
     ]
    }
   ],
   "source": [
    "#Predictions for 5 labels\n",
    "probs5 = prob_predict(X_te[:5], weights)\n",
    "preds5 = class_predict(X_te[:5], weights)\n",
    "\n",
    "print(\"First 5 Test Examples \\n\")\n",
    "print(\"True:\", y_te[:5])\n",
    "print(\"Probabilities:\", np.round(probs5,3))\n",
    "print(\"Predictions:\", preds5)\n"
   ]
  },
  {
   "cell_type": "markdown",
   "id": "065557a2-40e2-4e65-a010-22670f6fbff2",
   "metadata": {},
   "source": [
    "## Predictions on First 5 Test Examples\n",
    "\n",
    "| Example | True Label | Predicted Probability | Predicted Class |\n",
    "|---------|------------|-----------------------|-----------------|\n",
    "| 1       | 0          | 0.000                 | 0               |\n",
    "| 2       | 0          | 0.002                 | 0               |\n",
    "| 3       | 0          | 0.000                 | 0               |\n",
    "| 4       | 0          | 0.000                 | 0               |\n",
    "| 5       | 0          | 0.000                 | 0               |\n",
    "\n"
   ]
  },
  {
   "cell_type": "markdown",
   "id": "be95e399-83c5-4eda-b0db-34b57bc3d674",
   "metadata": {},
   "source": [
    "## Learned Parameters\n",
    "\n",
    "The final coefficients $\\theta$ show how each feature contributes to the decision boundary.\n"
   ]
  },
  {
   "cell_type": "code",
   "execution_count": 78,
   "id": "5231acd3-f491-4051-a6f2-46742268d0e3",
   "metadata": {},
   "outputs": [
    {
     "name": "stdout",
     "output_type": "stream",
     "text": [
      "θ0: -0.126089\n",
      "θ1: -0.312788\n",
      "θ2: -0.115569\n",
      "θ3: -0.395835\n",
      "θ4: -0.353439\n",
      "θ5: 0.563031\n",
      "θ6: -1.173688\n",
      "θ7: -1.151157\n",
      "θ8: -0.275087\n",
      "θ9: 0.217467\n",
      "θ10: -1.783867\n",
      "θ11: -0.122158\n",
      "θ12: -1.380149\n",
      "θ13: -1.338629\n",
      "θ14: 0.494546\n",
      "θ15: 1.530492\n",
      "θ16: 0.208300\n",
      "θ17: -0.152157\n",
      "θ18: 0.560683\n",
      "θ19: 0.793227\n",
      "θ20: -1.110064\n",
      "θ21: -1.244615\n",
      "θ22: -1.010563\n",
      "θ23: -1.385628\n",
      "θ24: -0.592730\n",
      "θ25: -0.069398\n",
      "θ26: -1.451473\n",
      "θ27: -1.092618\n",
      "θ28: -0.998170\n",
      "θ29: -0.406959\n"
     ]
    }
   ],
   "source": [
    "#Iterating to print Learned Coefficients\n",
    "for i, coef in enumerate(weights):\n",
    "    print(f\"θ{i}: {coef:.6f}\")\n"
   ]
  },
  {
   "cell_type": "markdown",
   "id": "10545755-5f2f-425a-a1b7-473161f8ca26",
   "metadata": {},
   "source": [
    "## Final Test Set Results\n",
    "\n",
    "- **Accuracy:** 0.974  \n",
    "- **Precision:** 0.960  \n",
    "- **Recall:** 1.000  \n",
    "- **F1 Score:** 0.980  \n",
    "\n",
    "**Confusion Matrix (TP, TN, FP, FN):** (72, 40, 3, 0)  \n",
    "\n",
    "- TP = 72 → Malignant tumors correctly identified  \n",
    "- TN = 40 → Benign tumors correctly identified  \n",
    "- FP = 3  → Benign tumors incorrectly labeled malignant  \n",
    "- FN = 0  → No malignant tumors missed  \n",
    "\n"
   ]
  }
 ],
 "metadata": {
  "kernelspec": {
   "display_name": "Python 3 (ipykernel)",
   "language": "python",
   "name": "python3"
  },
  "language_info": {
   "codemirror_mode": {
    "name": "ipython",
    "version": 3
   },
   "file_extension": ".py",
   "mimetype": "text/x-python",
   "name": "python",
   "nbconvert_exporter": "python",
   "pygments_lexer": "ipython3",
   "version": "3.13.7"
  }
 },
 "nbformat": 4,
 "nbformat_minor": 5
}
